{
  "nbformat": 4,
  "nbformat_minor": 0,
  "metadata": {
    "colab": {
      "provenance": [],
      "mount_file_id": "1Q_qS4O722wjK7nfR4uZQj14SoYOZfaYx",
      "authorship_tag": "ABX9TyO7f/uMP/vgCo1IZlG9rZDa",
      "include_colab_link": true
    },
    "kernelspec": {
      "name": "python3",
      "display_name": "Python 3"
    },
    "language_info": {
      "name": "python"
    }
  },
  "cells": [
    {
      "cell_type": "markdown",
      "metadata": {
        "id": "view-in-github",
        "colab_type": "text"
      },
      "source": [
        "<a href=\"https://colab.research.google.com/github/sidbardoloye/DSC404F/blob/main/CapstoneProj_SidharthaSarat.ipynb\" target=\"_parent\"><img src=\"https://colab.research.google.com/assets/colab-badge.svg\" alt=\"Open In Colab\"/></a>"
      ]
    },
    {
      "cell_type": "code",
      "execution_count": null,
      "metadata": {
        "colab": {
          "base_uri": "https://localhost:8080/"
        },
        "id": "G4Q6enUCQkco",
        "outputId": "9a806fa1-8e6a-4b70-dcab-d29a6411a0cd"
      },
      "outputs": [
        {
          "output_type": "stream",
          "name": "stdout",
          "text": [
            "total non unique words: 1946\n",
            "total non unique words without stop words: 1345\n",
            "\n",
            "-----------------------------------------------\n",
            "The 10 most frequent words in the file\n",
            "-----------------------------------------------\n",
            "          words  frequency  prob_occ\n",
            "1      learning         60  0.044610\n",
            "0       machine         42  0.031227\n",
            "11         data         26  0.019331\n",
            "146        from         17  0.012639\n",
            "132        with         16  0.011896\n",
            "21   algorithms         15  0.011152\n",
            "366          ai         12  0.008922\n",
            "8       methods         12  0.008922\n",
            "112         can         12  0.008922\n",
            "3         field         11  0.008178\n",
            "\n",
            "-----------------------------------------------\n",
            "The 10 least frequent words in the file\n",
            "-----------------------------------------------\n",
            "          words  frequency  prob_occ\n",
            "306      widely          1  0.000743\n",
            "305    mitchell          1  0.000743\n",
            "304           m          1  0.000743\n",
            "303         tom          1  0.000743\n",
            "302  terminal18          1  0.000743\n",
            "301     symbols          1  0.000743\n",
            "300     special          1  0.000743\n",
            "299           4          1  0.000743\n",
            "298          10          1  0.000743\n",
            "675     classes          1  0.000743\n",
            "\n",
            "-----------------------------------------------\n",
            "display words,frequency & occurence probability\n",
            "-----------------------------------------------\n",
            "        words  frequency  prob_occ\n",
            "0     machine         42  0.031227\n",
            "1    learning         60  0.044610\n",
            "2          ml          7  0.005204\n",
            "3       field         11  0.008178\n",
            "4     inquiry          1  0.000743\n",
            "..        ...        ...       ...\n",
            "671   results          3  0.002230\n",
            "672  positive          1  0.000743\n",
            "673      show          2  0.001487\n",
            "674  negative          1  0.000743\n",
            "675   classes          1  0.000743\n",
            "\n",
            "[676 rows x 3 columns]\n"
          ]
        }
      ],
      "source": [
        "# Capstone project - Sidhartha Sarat Bardoloye\n",
        "# Dated: 18th March 2023\n",
        "import string\n",
        "import numpy as np\n",
        "import pandas as pd\n",
        "import matplotlib.pyplot as plt\n",
        "from wordcloud import WordCloud\n",
        "\n",
        "# clean the words in the file \n",
        "def cleanWord(origWord):\n",
        "  #remove punctuations # \n",
        "  origWord=origWord.translate(str.maketrans('', '', string.punctuation))\n",
        "  #convert to lower case \n",
        "  origWord=origWord.lower()\n",
        "  return (origWord)\n",
        "def printFormat(printText):\n",
        "  print()\n",
        "  print(\"-----------------------------------------------\")\n",
        "  print(printText)\n",
        "  print(\"-----------------------------------------------\")\n",
        "\n",
        "# define a few stop words to be ignored\n",
        "wordsToBeIgnored=['a','an','is','the','of','etc','as','to','on','he','they','she'\n",
        ",'that','but','by','do','for','it','its','his','her','their','not','if','into','in','etc.'\n",
        ",'be','or','and','their','nor','has','had','have','we','us','me']\n",
        "\n",
        "# Read the file in question\n",
        "file=open('capstoneInput.txt')\n",
        "\n",
        "# initialising a np array to hold all words \n",
        "cleanWordList=np.array([])\n",
        "# iterating through the lines in the file \n",
        "for line in file:\n",
        "  line=cleanWord(line)\n",
        "  words=line.split()\n",
        "  # print (words)\n",
        "  # creating a word list as a numpy array\n",
        "  cleanWordList=np.append(cleanWordList,words) \n",
        "\n",
        "# Process the numpy array for rest of the things \n",
        "\n",
        "# create a new array after removing the stop words from cleanWordList\n",
        "tmpResult = ~np.isin(cleanWordList,wordsToBeIgnored) # this holds a negated boolean array. \n",
        "# The words which are there in both will be False (due to negation) i.e., stop words\n",
        "cleanWordList_NoStpWrds=cleanWordList[tmpResult] # this contains the results after removal of stop words\n",
        "totalCleanWords=cleanWordList_NoStpWrds.size # storing the total clean words minus the stop words\n",
        "\n",
        "wordCountDict=dict()\n",
        "for word in cleanWordList_NoStpWrds:\n",
        "  if word in wordCountDict:\n",
        "    wordCountDict[word]=wordCountDict[word]+1\n",
        "  else:\n",
        "    wordCountDict[word]=1\n",
        "\n",
        "# creating a pandas dataframe with 3 columns - \"Words\",\"frequency\",\"prob_occ\"(probability of occurence of the word)\n",
        "df_wordfreq=pd.DataFrame(columns=['words','frequency','prob_occ'])\n",
        "for word,freq in wordCountDict.items():\n",
        "  rowTobeInserted={'words':word,'frequency':freq,'prob_occ':freq/totalCleanWords}\n",
        "  df_wordfreq.loc[len(df_wordfreq)]=rowTobeInserted\n",
        "\n",
        "# printing the total counts \n",
        "print (\"total non unique words:\",cleanWordList.size) \n",
        "print (\"total non unique words without stop words:\",totalCleanWords) \n",
        "printFormat(\"The 10 most frequent words in the file\")\n",
        "print (df_wordfreq.sort_values(by=['frequency'],ascending=False).head(10))\n",
        "printFormat(\"The 10 least frequent words in the file\")\n",
        "print (df_wordfreq.sort_values(by=['frequency'],ascending=False).tail(10))\n",
        "\n",
        "# Writing the \"words\",\"frequency\",\"prob_occ\" into a CSV\n",
        "df_wordfreq.to_csv('word_freq.csv')\n",
        "# printing the overall results\n",
        "printFormat(\"display words,frequency & occurence probability\")\n",
        "print(df_wordfreq)\n"
      ]
    },
    {
      "cell_type": "code",
      "source": [
        "# Plotting the bar graph showing words and frequency \n",
        "wrds=list(df_wordfreq.sort_values(by=['frequency'],ascending=False).head(10)[\"words\"])\n",
        "cnts=list(df_wordfreq.sort_values(by=['frequency'],ascending=False).head(10)[\"frequency\"])\n",
        "fig, ax = plt.subplots(figsize =(16, 9))\n",
        "ax.barh(wrds, cnts)\n",
        "\n",
        "# Deleting the axes splines\n",
        "for s in ['top', 'bottom', 'left', 'right']:\n",
        "    ax.spines[s].set_visible(False)\n",
        "# Remove x, y Ticks\n",
        "ax.xaxis.set_ticks_position('none')\n",
        "ax.yaxis.set_ticks_position('none')\n",
        "\n",
        "# Add padding between axes and labels\n",
        "ax.xaxis.set_tick_params(pad = 5)\n",
        "ax.yaxis.set_tick_params(pad = 10)\n",
        " \n",
        "# Add x, y gridlines\n",
        "ax.grid(color ='grey',\n",
        "        linestyle ='-.', linewidth = 0.5,\n",
        "        alpha = 0.2)\n",
        " \n",
        "# Inverting the Y axis for better viewing\n",
        "ax.invert_yaxis()\n",
        "\n",
        "# Add annotation to bars\n",
        "for i in ax.patches:\n",
        "   plt.text(i.get_width()+0.2, i.get_y()+0.5,\n",
        "             str(round((i.get_width()), 2)),\n",
        "             fontsize = 10, fontweight ='bold',\n",
        "             #color ='grey')\n",
        " \n",
        "# Add Plot Title\n",
        "ax.set_title('Words and their corresponding frequencies',\n",
        "             loc ='left', )\n",
        "# Add Text watermark\n",
        "fig.text(0.9, 0.15, 'DSC404F-Sidhartha', fontsize = 12,\n",
        "         color ='grey', ha ='right', va ='bottom',\n",
        "         alpha = 0.7)\n",
        "plt.show()"
      ],
      "metadata": {
        "colab": {
          "base_uri": "https://localhost:8080/",
          "height": 555
        },
        "id": "iJQOS1Fy0Co8",
        "outputId": "60787623-9cd0-4cbf-8723-3e4da8e43465"
      },
      "execution_count": null,
      "outputs": [
        {
          "output_type": "display_data",
          "data": {
            "text/plain": [
              "<Figure size 1152x648 with 1 Axes>"
            ],
            "image/png": "[encoded data removed]"
          },
          "metadata": {
            "needs_background": "light"
          }
        }
      ]
    }
  ]
}